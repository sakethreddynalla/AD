{
  "nbformat": 4,
  "nbformat_minor": 0,
  "metadata": {
    "colab": {
      "provenance": []
    },
    "kernelspec": {
      "name": "python3",
      "display_name": "Python 3"
    },
    "language_info": {
      "name": "python"
    }
  },
  "cells": [
    {
      "cell_type": "code",
      "execution_count": null,
      "metadata": {
        "colab": {
          "base_uri": "https://localhost:8080/"
        },
        "id": "tiKBVbL1Cn-P",
        "outputId": "c1587738-5ac4-4d33-dbb0-4ab7c3a74289"
      },
      "outputs": [
        {
          "output_type": "execute_result",
          "data": {
            "text/plain": [
              "[40, 20, 80, 50, 30, 60, 90]"
            ]
          },
          "metadata": {},
          "execution_count": 1
        }
      ],
      "source": [
        "radius=[40,20,80,50,30,60,90]\n",
        "radius"
      ]
    },
    {
      "cell_type": "code",
      "source": [
        "for i in radius:\n",
        "    print(3.14*i*i)"
      ],
      "metadata": {
        "colab": {
          "base_uri": "https://localhost:8080/"
        },
        "id": "gwsBL-q3Cr6-",
        "outputId": "cfed364e-04ab-4177-cddd-4eb2942b95a8"
      },
      "execution_count": null,
      "outputs": [
        {
          "output_type": "stream",
          "name": "stdout",
          "text": [
            "5024.0\n",
            "1256.0\n",
            "20096.0\n",
            "7850.0\n",
            "2826.0\n",
            "11304.0\n",
            "25434.000000000004\n"
          ]
        }
      ]
    },
    {
      "cell_type": "code",
      "source": [
        "type(radius)"
      ],
      "metadata": {
        "colab": {
          "base_uri": "https://localhost:8080/"
        },
        "id": "qaxd4gxSCuZP",
        "outputId": "12a43f2a-a3cf-4fa1-b84c-a448c69fd647"
      },
      "execution_count": null,
      "outputs": [
        {
          "output_type": "execute_result",
          "data": {
            "text/plain": [
              "list"
            ]
          },
          "metadata": {},
          "execution_count": 4
        }
      ]
    },
    {
      "cell_type": "code",
      "source": [
        "area=[]\n",
        "for i in radius:\n",
        "    area.append(3.14*i*i)"
      ],
      "metadata": {
        "id": "XyvH2ZF3DECQ"
      },
      "execution_count": null,
      "outputs": []
    },
    {
      "cell_type": "code",
      "source": [
        "area"
      ],
      "metadata": {
        "colab": {
          "base_uri": "https://localhost:8080/"
        },
        "id": "SSVI3rp3DfR8",
        "outputId": "ac819b88-9079-4497-cf55-8146f8e5d1a4"
      },
      "execution_count": null,
      "outputs": [
        {
          "output_type": "execute_result",
          "data": {
            "text/plain": [
              "[5024.0, 1256.0, 20096.0, 7850.0, 2826.0, 11304.0, 25434.000000000004]"
            ]
          },
          "metadata": {},
          "execution_count": 10
        }
      ]
    },
    {
      "cell_type": "code",
      "source": [
        "num=[39,45,66,93,90,78,67,87,89,93,24,59,49,91]\n",
        "num"
      ],
      "metadata": {
        "colab": {
          "base_uri": "https://localhost:8080/"
        },
        "id": "Id595K7GD6wg",
        "outputId": "89b3827c-5611-4fcf-8bfc-3df5e1f26388"
      },
      "execution_count": null,
      "outputs": [
        {
          "output_type": "execute_result",
          "data": {
            "text/plain": [
              "[39, 45, 66, 93, 90, 78, 67, 87, 89, 93, 24, 59, 49, 91]"
            ]
          },
          "metadata": {},
          "execution_count": 11
        }
      ]
    },
    {
      "cell_type": "code",
      "source": [
        "even= []\n",
        "odd= []\n",
        "\n",
        "for number in num:\n",
        "    if number % 2 == 0:\n",
        "        even.append(number)\n",
        "    else:\n",
        "        odd.append(number)\n",
        "\n",
        "print(\"Even numbers:\",even)\n",
        "print(\"Odd numbers:\",odd)"
      ],
      "metadata": {
        "colab": {
          "base_uri": "https://localhost:8080/"
        },
        "id": "00IWTYlMFQVc",
        "outputId": "d27b5c48-d2a3-4097-df58-03ee7383002a"
      },
      "execution_count": null,
      "outputs": [
        {
          "output_type": "stream",
          "name": "stdout",
          "text": [
            "Even numbers: [66, 90, 78, 24]\n",
            "Odd numbers: [39, 45, 93, 67, 87, 89, 93, 59, 49, 91]\n"
          ]
        }
      ]
    },
    {
      "cell_type": "code",
      "source": [
        "h=[]\n",
        "for i in num:\n",
        "  a=str(i)\n",
        "  b=a.replace('9','1')\n",
        "  c=int(b)\n",
        "  h.append(c)"
      ],
      "metadata": {
        "id": "iUpQFAgKKK8q"
      },
      "execution_count": null,
      "outputs": []
    },
    {
      "cell_type": "code",
      "source": [
        "x='software'\n",
        "y=''\n",
        "for i in x:\n",
        "  if i.lower() not in ('s','o'):\n",
        "    y+=i"
      ],
      "metadata": {
        "id": "a4LBB1x4KwlH"
      },
      "execution_count": null,
      "outputs": []
    },
    {
      "cell_type": "code",
      "source": [
        "for i in x:\n",
        "  print(i)"
      ],
      "metadata": {
        "colab": {
          "base_uri": "https://localhost:8080/"
        },
        "id": "-XN0toPmLmcf",
        "outputId": "983ec847-1fc2-470e-f53e-87f2f8a86ff4"
      },
      "execution_count": null,
      "outputs": [
        {
          "output_type": "stream",
          "name": "stdout",
          "text": [
            "s\n",
            "o\n",
            "f\n",
            "t\n",
            "w\n",
            "a\n",
            "r\n",
            "e\n"
          ]
        }
      ]
    },
    {
      "cell_type": "code",
      "source": [
        "y"
      ],
      "metadata": {
        "colab": {
          "base_uri": "https://localhost:8080/",
          "height": 35
        },
        "id": "Y-AvRct6LvVH",
        "outputId": "c77b8ca8-efb8-4331-bb68-ec1fafeb171d"
      },
      "execution_count": null,
      "outputs": [
        {
          "output_type": "execute_result",
          "data": {
            "text/plain": [
              "'ftware'"
            ],
            "application/vnd.google.colaboratory.intrinsic+json": {
              "type": "string"
            }
          },
          "metadata": {},
          "execution_count": 24
        }
      ]
    },
    {
      "cell_type": "code",
      "source": [],
      "metadata": {
        "id": "TSfEXiIgL7Hx"
      },
      "execution_count": null,
      "outputs": []
    }
  ]
}