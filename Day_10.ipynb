{
  "nbformat": 4,
  "nbformat_minor": 0,
  "metadata": {
    "colab": {
      "provenance": []
    },
    "kernelspec": {
      "name": "python3",
      "display_name": "Python 3"
    },
    "language_info": {
      "name": "python"
    }
  },
  "cells": [
    {
      "cell_type": "code",
      "source": [
        "import numpy as np # Importing the numpy library and giving it the alias np\n",
        "\n",
        "np.random.seed(94) # Setting the random seed for reproducibility\n",
        "b = np.random.randint(45, 78, (7, 8)) # Generating a 7x8 array with random integers between 45 and 78\n",
        "b # Displaying the generated array\n"
      ],
      "metadata": {
        "colab": {
          "base_uri": "https://localhost:8080/"
        },
        "id": "S5981eGmLIFp",
        "outputId": "a67846b4-46d4-48d7-e4b6-82bfe0a7b6fb"
      },
      "execution_count": null,
      "outputs": [
        {
          "output_type": "execute_result",
          "data": {
            "text/plain": [
              "array([[63, 45, 48, 67, 74, 64, 61, 53],\n",
              "       [61, 59, 55, 77, 69, 69, 48, 60],\n",
              "       [71, 56, 51, 58, 59, 47, 68, 77],\n",
              "       [46, 45, 52, 74, 65, 53, 60, 55],\n",
              "       [64, 72, 46, 69, 65, 75, 75, 51],\n",
              "       [75, 67, 53, 77, 60, 67, 67, 47],\n",
              "       [75, 54, 74, 69, 54, 64, 52, 61]])"
            ]
          },
          "metadata": {},
          "execution_count": 2
        }
      ]
    },
    {
      "cell_type": "code",
      "source": [
        "b[2] #2nd row"
      ],
      "metadata": {
        "colab": {
          "base_uri": "https://localhost:8080/"
        },
        "id": "mIV5UBdaLX4M",
        "outputId": "effd70c8-bda3-4f33-cff7-3104c2203123"
      },
      "execution_count": null,
      "outputs": [
        {
          "output_type": "execute_result",
          "data": {
            "text/plain": [
              "array([71, 56, 51, 58, 59, 47, 68, 77])"
            ]
          },
          "metadata": {},
          "execution_count": 3
        }
      ]
    },
    {
      "cell_type": "code",
      "source": [
        "b[:,7] #7th row\n"
      ],
      "metadata": {
        "colab": {
          "base_uri": "https://localhost:8080/"
        },
        "id": "UwNyHZFJLcrd",
        "outputId": "5a9a94da-1d2a-4dd9-81d3-f060b59f7ff7"
      },
      "execution_count": null,
      "outputs": [
        {
          "output_type": "execute_result",
          "data": {
            "text/plain": [
              "array([53, 60, 77, 55, 51, 47, 61])"
            ]
          },
          "metadata": {},
          "execution_count": 4
        }
      ]
    },
    {
      "cell_type": "code",
      "source": [
        "b[:,3]"
      ],
      "metadata": {
        "colab": {
          "base_uri": "https://localhost:8080/"
        },
        "id": "3zo3QXrQLhe7",
        "outputId": "6ff8a6be-d695-4052-ced0-b36b86dd15d8"
      },
      "execution_count": null,
      "outputs": [
        {
          "output_type": "execute_result",
          "data": {
            "text/plain": [
              "array([67, 77, 58, 74, 69, 77, 69])"
            ]
          },
          "metadata": {},
          "execution_count": 5
        }
      ]
    },
    {
      "cell_type": "code",
      "source": [
        "b[1,3] #1st row and 3rd column position"
      ],
      "metadata": {
        "colab": {
          "base_uri": "https://localhost:8080/"
        },
        "id": "nw3BHgBLLmP3",
        "outputId": "b7e7f9fd-eb47-4c6f-caf7-a8e631f0a536"
      },
      "execution_count": null,
      "outputs": [
        {
          "output_type": "execute_result",
          "data": {
            "text/plain": [
              "77"
            ]
          },
          "metadata": {},
          "execution_count": 6
        }
      ]
    },
    {
      "cell_type": "code",
      "source": [
        "b[5,6]#5th row 6th column"
      ],
      "metadata": {
        "colab": {
          "base_uri": "https://localhost:8080/"
        },
        "id": "_neHit8SLpF4",
        "outputId": "573d64df-a441-46d2-c078-6a54bd49dfad"
      },
      "execution_count": null,
      "outputs": [
        {
          "output_type": "execute_result",
          "data": {
            "text/plain": [
              "67"
            ]
          },
          "metadata": {},
          "execution_count": 7
        }
      ]
    },
    {
      "cell_type": "code",
      "source": [
        "b[2,2]"
      ],
      "metadata": {
        "colab": {
          "base_uri": "https://localhost:8080/"
        },
        "id": "Wem3O7J7L3V9",
        "outputId": "10e7a63f-72e1-49dd-c2df-d0dbadd1c601"
      },
      "execution_count": null,
      "outputs": [
        {
          "output_type": "execute_result",
          "data": {
            "text/plain": [
              "51"
            ]
          },
          "metadata": {},
          "execution_count": 8
        }
      ]
    },
    {
      "cell_type": "code",
      "source": [
        "b[2,1:6]"
      ],
      "metadata": {
        "colab": {
          "base_uri": "https://localhost:8080/"
        },
        "id": "aCli6kMHL8yO",
        "outputId": "fa670fee-ac2f-4d13-f22f-99219501c29c"
      },
      "execution_count": null,
      "outputs": [
        {
          "output_type": "execute_result",
          "data": {
            "text/plain": [
              "array([56, 51, 58, 59, 47])"
            ]
          },
          "metadata": {},
          "execution_count": 10
        }
      ]
    },
    {
      "cell_type": "code",
      "source": [
        "b[1:6:2,1:6]"
      ],
      "metadata": {
        "colab": {
          "base_uri": "https://localhost:8080/"
        },
        "id": "73gVhp3OPCc-",
        "outputId": "a3cf8849-dd4c-4a01-aed0-b08a8397fe1f"
      },
      "execution_count": null,
      "outputs": [
        {
          "output_type": "execute_result",
          "data": {
            "text/plain": [
              "array([[59, 55, 77, 69, 69],\n",
              "       [45, 52, 74, 65, 53],\n",
              "       [67, 53, 77, 60, 67]])"
            ]
          },
          "metadata": {},
          "execution_count": 16
        }
      ]
    },
    {
      "cell_type": "code",
      "source": [
        "b"
      ],
      "metadata": {
        "colab": {
          "base_uri": "https://localhost:8080/"
        },
        "id": "i6ZJsxxqPn_5",
        "outputId": "1191dc85-588a-46d2-e628-9de8b7db50c0"
      },
      "execution_count": null,
      "outputs": [
        {
          "output_type": "execute_result",
          "data": {
            "text/plain": [
              "array([[63, 45, 48, 67, 74, 64, 61, 53],\n",
              "       [61, 59, 55, 77, 69, 69, 48, 60],\n",
              "       [71, 56, 51, 58, 59, 47, 68, 77],\n",
              "       [46, 45, 52, 74, 65, 53, 60, 55],\n",
              "       [64, 72, 46, 69, 65, 75, 75, 51],\n",
              "       [75, 67, 53, 77, 60, 67, 67, 47],\n",
              "       [75, 54, 74, 69, 54, 64, 52, 61]])"
            ]
          },
          "metadata": {},
          "execution_count": 17
        }
      ]
    },
    {
      "cell_type": "code",
      "source": [
        "b[3:6,2:6]"
      ],
      "metadata": {
        "colab": {
          "base_uri": "https://localhost:8080/"
        },
        "id": "iF6DDIhAQn01",
        "outputId": "4893d9f6-bb26-47cf-e8e2-fcb994b59ad8"
      },
      "execution_count": null,
      "outputs": [
        {
          "output_type": "execute_result",
          "data": {
            "text/plain": [
              "array([[52, 74, 65, 53],\n",
              "       [46, 69, 65, 75],\n",
              "       [53, 77, 60, 67]])"
            ]
          },
          "metadata": {},
          "execution_count": 21
        }
      ]
    },
    {
      "cell_type": "code",
      "source": [
        "b"
      ],
      "metadata": {
        "colab": {
          "base_uri": "https://localhost:8080/"
        },
        "id": "C20jSj2wRImF",
        "outputId": "e8b7a4b3-be32-42fd-a05e-e41f8071f813"
      },
      "execution_count": null,
      "outputs": [
        {
          "output_type": "execute_result",
          "data": {
            "text/plain": [
              "array([[63, 45, 48, 67, 74, 64, 61, 53],\n",
              "       [61, 59, 55, 77, 69, 69, 48, 60],\n",
              "       [71, 56, 51, 58, 59, 47, 68, 77],\n",
              "       [46, 45, 52, 74, 65, 53, 60, 55],\n",
              "       [64, 72, 46, 69, 65, 75, 75, 51],\n",
              "       [75, 67, 53, 77, 60, 67, 67, 47],\n",
              "       [75, 54, 74, 69, 54, 64, 52, 61]])"
            ]
          },
          "metadata": {},
          "execution_count": 22
        }
      ]
    },
    {
      "cell_type": "code",
      "source": [
        "b[1,1]"
      ],
      "metadata": {
        "colab": {
          "base_uri": "https://localhost:8080/"
        },
        "id": "MGNiI4gARsPe",
        "outputId": "fcaf604d-f84e-4236-8965-0bd4afd923ed"
      },
      "execution_count": null,
      "outputs": [
        {
          "output_type": "execute_result",
          "data": {
            "text/plain": [
              "59"
            ]
          },
          "metadata": {},
          "execution_count": 25
        }
      ]
    },
    {
      "cell_type": "code",
      "source": [
        "b[1,4]"
      ],
      "metadata": {
        "colab": {
          "base_uri": "https://localhost:8080/"
        },
        "id": "XbplgrmjSAnD",
        "outputId": "b76d75b9-9330-48f6-bb5a-98e8a5e2bd83"
      },
      "execution_count": null,
      "outputs": [
        {
          "output_type": "execute_result",
          "data": {
            "text/plain": [
              "69"
            ]
          },
          "metadata": {},
          "execution_count": 28
        }
      ]
    },
    {
      "cell_type": "code",
      "source": [
        "b[1:6:2]"
      ],
      "metadata": {
        "colab": {
          "base_uri": "https://localhost:8080/"
        },
        "id": "T0uUwz4MSQxo",
        "outputId": "316ce848-cff7-444d-f064-c745bff4cec0"
      },
      "execution_count": null,
      "outputs": [
        {
          "output_type": "execute_result",
          "data": {
            "text/plain": [
              "array([[61, 59, 55, 77, 69, 69, 48, 60],\n",
              "       [46, 45, 52, 74, 65, 53, 60, 55],\n",
              "       [75, 67, 53, 77, 60, 67, 67, 47]])"
            ]
          },
          "metadata": {},
          "execution_count": 29
        }
      ]
    },
    {
      "cell_type": "code",
      "source": [
        "b[1:6:2,1:8:3]"
      ],
      "metadata": {
        "colab": {
          "base_uri": "https://localhost:8080/"
        },
        "id": "J7TlgI0KSfMv",
        "outputId": "e67cff4f-c2e8-43ba-f444-5e2ff4c58a1a"
      },
      "execution_count": null,
      "outputs": [
        {
          "output_type": "execute_result",
          "data": {
            "text/plain": [
              "array([[59, 69, 60],\n",
              "       [45, 65, 55],\n",
              "       [67, 60, 47]])"
            ]
          },
          "metadata": {},
          "execution_count": 30
        }
      ]
    },
    {
      "cell_type": "code",
      "source": [],
      "metadata": {
        "id": "MV7DpkvCS3mT"
      },
      "execution_count": null,
      "outputs": []
    }
  ]
}