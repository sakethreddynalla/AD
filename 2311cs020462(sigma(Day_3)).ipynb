{
  "nbformat": 4,
  "nbformat_minor": 0,
  "metadata": {
    "colab": {
      "provenance": []
    },
    "kernelspec": {
      "name": "python3",
      "display_name": "Python 3"
    },
    "language_info": {
      "name": "python"
    }
  },
  "cells": [
    {
      "cell_type": "code",
      "execution_count": null,
      "metadata": {
        "colab": {
          "base_uri": "https://localhost:8080/"
        },
        "id": "Tk1_04nuDGx4",
        "outputId": "f5a1a94d-0239-4f90-fc48-be11369e1e5b"
      },
      "outputs": [
        {
          "output_type": "stream",
          "name": "stdout",
          "text": [
            "Enter marks for subject 1: 45\n",
            "Enter marks for subject 2: 65\n",
            "Enter marks for subject 3: 34\n",
            "Grade:Fail\n"
          ]
        }
      ],
      "source": [
        "a = float (input(\"Enter marks for subject 1: \"))\n",
        "b = float (input(\"Enter marks for subject 2: \"))\n",
        "c = float (input(\"Enter marks for subject 3: \"))\n",
        "avg = (a + b + c) / 3\n",
        "if avg >= 90:\n",
        "    result = \"A\"\n",
        "elif 80 <= avg < 90:\n",
        "    result = \"B\"\n",
        "elif 70 <=avg < 80:\n",
        "    result = \"c\"\n",
        "else:\n",
        "    result = \"Fail\"\n",
        "print (f\"Grade:{result}\")\n"
      ]
    },
    {
      "cell_type": "code",
      "source": [],
      "metadata": {
        "id": "JZFa17-WDJUT"
      },
      "execution_count": null,
      "outputs": []
    }
  ]
}