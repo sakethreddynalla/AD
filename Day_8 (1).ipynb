{
  "nbformat": 4,
  "nbformat_minor": 0,
  "metadata": {
    "colab": {
      "provenance": []
    },
    "kernelspec": {
      "name": "python3",
      "display_name": "Python 3"
    },
    "language_info": {
      "name": "python"
    }
  },
  "cells": [
    {
      "cell_type": "code",
      "source": [
        "import pandas as pd\n",
        "data = {\n",
        "    'Date': ['2023-01-02', '2023-01-06', '2023-01-03', '2023-01-20', '2023-01-04', '2023-01-17', '2023-01-14',\n",
        "             '2023-01-07', '2023-01-11', '2023-01-01', '2023-01-19', '2023-01-12', '2023-01-09', '2023-01-10',\n",
        "             '2023-01-08', '2023-01-05', '2023-01-15', '2023-01-18', '2023-01-13', '2023-01-16'],\n",
        "    'Product': ['Tablet', 'Laptop', 'Tablet', 'Tablet', 'Laptop', 'Tablet', 'Keyboard', 'Smartphone', 'Smartphone',\n",
        "                'Laptop', 'Monitor', 'Laptop', 'Monitor', 'Smartphone', 'Laptop', 'Keyboard', 'Tablet', 'Monitor',\n",
        "                'Tablet', 'Smartphone'], # Added 'Smartphone' to make the length equal to other columns\n",
        "    'Region': ['East', 'North', 'East', 'North', 'West', 'North', 'East', 'East', 'West', 'North', 'North', 'West',\n",
        "               'North', 'North', 'East', 'North', 'South', 'West', 'West', 'East'], # Added 'East' to make the length equal to other columns\n",
        "    'Sales': [1061.81, 1926.07, 1597.99, 1397.99, 734.03, 733.99, 587.13, 1799.26, 1401.67, 1562.11, 530.88, 1954.86,\n",
        "              1748.66, 818.51, 772.74, 775.11, 956.36, 936.84, 1147.92, 1287.13],\n",
        "    'Profit': [236.12, 246.34, 253.17, 242.23, 140.36, 188.66, 82.16, 364.97, 306.24, 170.72, 117.59, 262.16, 197.62,\n",
        "               237.19, 226.51, 202.83, 153.90, 176.15, 271.88, 153.86],\n",
        "    'Quantity': [7, 8, 3, 1, 4, 2, 8, 4, 2, 6, 6, 4, 6, 2, 2, 4, 8, 8, 9, 7]\n",
        "}\n",
        "df = pd.DataFrame(data)\n",
        "filtered_sales = df[df['Sales'] > 1000]\n",
        "east_sales = df[df['Region'] == 'East']\n",
        "df['Profit_Per_Unit'] = df['Profit'] / df['Quantity']\n",
        "df['High_Sales'] = df['Sales'].apply(lambda x: 'Yes' if x > 1000 else 'No')\n",
        "\n",
        "print(\"Filtered Sales (Sales > 1000):\")\n",
        "print(filtered_sales[['Date', 'Product', 'Region', 'Sales', 'Profit', 'Quantity']])\n",
        "\n",
        "print(\"\\nSales Records for East Region:\")\n",
        "print(east_sales[['Date', 'Product', 'Region', 'Sales', 'Profit', 'Quantity']])\n",
        "\n",
        "print(\"\\nData with 'Profit_Per_Unit' and 'High_Sales' columns:\")\n",
        "print(df[['Date', 'Product', 'Region', 'Sales', 'Profit', 'Quantity', 'Profit_Per_Unit', 'High_Sales']])\n"
      ],
      "metadata": {
        "colab": {
          "base_uri": "https://localhost:8080/"
        },
        "id": "9G10FRl_z4h2",
        "outputId": "d1b327ab-2dc5-4bba-f3e0-8d6e54deb9ad"
      },
      "execution_count": null,
      "outputs": [
        {
          "output_type": "stream",
          "name": "stdout",
          "text": [
            "Filtered Sales (Sales > 1000):\n",
            "          Date     Product Region    Sales  Profit  Quantity\n",
            "0   2023-01-02      Tablet   East  1061.81  236.12         7\n",
            "1   2023-01-06      Laptop  North  1926.07  246.34         8\n",
            "2   2023-01-03      Tablet   East  1597.99  253.17         3\n",
            "3   2023-01-20      Tablet  North  1397.99  242.23         1\n",
            "7   2023-01-07  Smartphone   East  1799.26  364.97         4\n",
            "8   2023-01-11  Smartphone   West  1401.67  306.24         2\n",
            "9   2023-01-01      Laptop  North  1562.11  170.72         6\n",
            "11  2023-01-12      Laptop   West  1954.86  262.16         4\n",
            "12  2023-01-09     Monitor  North  1748.66  197.62         6\n",
            "18  2023-01-13      Tablet   West  1147.92  271.88         9\n",
            "19  2023-01-16  Smartphone   East  1287.13  153.86         7\n",
            "\n",
            "Sales Records for East Region:\n",
            "          Date     Product Region    Sales  Profit  Quantity\n",
            "0   2023-01-02      Tablet   East  1061.81  236.12         7\n",
            "2   2023-01-03      Tablet   East  1597.99  253.17         3\n",
            "6   2023-01-14    Keyboard   East   587.13   82.16         8\n",
            "7   2023-01-07  Smartphone   East  1799.26  364.97         4\n",
            "14  2023-01-08      Laptop   East   772.74  226.51         2\n",
            "19  2023-01-16  Smartphone   East  1287.13  153.86         7\n",
            "\n",
            "Data with 'Profit_Per_Unit' and 'High_Sales' columns:\n",
            "          Date     Product Region    Sales  Profit  Quantity  Profit_Per_Unit  \\\n",
            "0   2023-01-02      Tablet   East  1061.81  236.12         7        33.731429   \n",
            "1   2023-01-06      Laptop  North  1926.07  246.34         8        30.792500   \n",
            "2   2023-01-03      Tablet   East  1597.99  253.17         3        84.390000   \n",
            "3   2023-01-20      Tablet  North  1397.99  242.23         1       242.230000   \n",
            "4   2023-01-04      Laptop   West   734.03  140.36         4        35.090000   \n",
            "5   2023-01-17      Tablet  North   733.99  188.66         2        94.330000   \n",
            "6   2023-01-14    Keyboard   East   587.13   82.16         8        10.270000   \n",
            "7   2023-01-07  Smartphone   East  1799.26  364.97         4        91.242500   \n",
            "8   2023-01-11  Smartphone   West  1401.67  306.24         2       153.120000   \n",
            "9   2023-01-01      Laptop  North  1562.11  170.72         6        28.453333   \n",
            "10  2023-01-19     Monitor  North   530.88  117.59         6        19.598333   \n",
            "11  2023-01-12      Laptop   West  1954.86  262.16         4        65.540000   \n",
            "12  2023-01-09     Monitor  North  1748.66  197.62         6        32.936667   \n",
            "13  2023-01-10  Smartphone  North   818.51  237.19         2       118.595000   \n",
            "14  2023-01-08      Laptop   East   772.74  226.51         2       113.255000   \n",
            "15  2023-01-05    Keyboard  North   775.11  202.83         4        50.707500   \n",
            "16  2023-01-15      Tablet  South   956.36  153.90         8        19.237500   \n",
            "17  2023-01-18     Monitor   West   936.84  176.15         8        22.018750   \n",
            "18  2023-01-13      Tablet   West  1147.92  271.88         9        30.208889   \n",
            "19  2023-01-16  Smartphone   East  1287.13  153.86         7        21.980000   \n",
            "\n",
            "   High_Sales  \n",
            "0         Yes  \n",
            "1         Yes  \n",
            "2         Yes  \n",
            "3         Yes  \n",
            "4          No  \n",
            "5          No  \n",
            "6          No  \n",
            "7         Yes  \n",
            "8         Yes  \n",
            "9         Yes  \n",
            "10         No  \n",
            "11        Yes  \n",
            "12        Yes  \n",
            "13         No  \n",
            "14         No  \n",
            "15         No  \n",
            "16         No  \n",
            "17         No  \n",
            "18        Yes  \n",
            "19        Yes  \n"
          ]
        }
      ]
    },
    {
      "cell_type": "code",
      "source": [],
      "metadata": {
        "id": "J7E6087V0fBU"
      },
      "execution_count": null,
      "outputs": []
    }
  ]
}