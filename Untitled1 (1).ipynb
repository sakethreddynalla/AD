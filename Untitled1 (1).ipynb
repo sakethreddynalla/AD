{
  "nbformat": 4,
  "nbformat_minor": 0,
  "metadata": {
    "colab": {
      "provenance": []
    },
    "kernelspec": {
      "name": "python3",
      "display_name": "Python 3"
    },
    "language_info": {
      "name": "python"
    }
  },
  "cells": [
    {
      "cell_type": "code",
      "execution_count": null,
      "metadata": {
        "colab": {
          "base_uri": "https://localhost:8080/"
        },
        "id": "_IZavxNoO33Q",
        "outputId": "7a1ff39f-2bd1-4e6a-e16e-0f3dd36af42f"
      },
      "outputs": [
        {
          "output_type": "stream",
          "name": "stdout",
          "text": [
            "Enter a positive integer: 48\n",
            "The sum of all even numbers between 1 and 48 is: 600\n"
          ]
        }
      ],
      "source": [
        "def sum_of_even_numbers(n):\n",
        "    total_sum = 0\n",
        "\n",
        "    for i in range(2, n + 1, 2):\n",
        "        total_sum += i\n",
        "\n",
        "    return total_sum\n",
        "n = int(input(\"Enter a positive integer: \"))\n",
        "if n > 0:\n",
        "    result = sum_of_even_numbers(n)\n",
        "    print(f\"The sum of all even numbers between 1 and {n} is: {result}\")\n",
        "else:\n",
        "    print(\"Please enter a positive integer.\")"
      ]
    },
    {
      "cell_type": "code",
      "source": [],
      "metadata": {
        "id": "Y9Qb1RexO4kX"
      },
      "execution_count": null,
      "outputs": []
    }
  ]
}