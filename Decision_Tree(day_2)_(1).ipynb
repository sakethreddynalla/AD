{
  "cells": [
    {
      "cell_type": "code",
      "execution_count": null,
      "id": "83067a94-3b73-4546-887f-ee7914f11bd3",
      "metadata": {
        "id": "83067a94-3b73-4546-887f-ee7914f11bd3"
      },
      "outputs": [],
      "source": [
        "#importing the modules\n",
        "!pip install streamlit #3rd party module"
      ]
    },
    {
      "cell_type": "code",
      "execution_count": null,
      "id": "67972e79-c69e-4e27-85f8-fe42242b4fd7",
      "metadata": {
        "id": "67972e79-c69e-4e27-85f8-fe42242b4fd7"
      },
      "outputs": [],
      "source": [
        "#import the libraries\n",
        "import numpy as np\n",
        "import pandas as pd\n",
        "import seaborn as sns\n",
        "import matplotlib.pyplot as plt\n",
        "from sklearn.model_selection import train_test_split\n",
        "from sklearn.tree import DecisionTreeClassifier\n",
        "from sklearn.metrics import accuracy_score,precision_score,recall_score,f1_score,roc_auc_score,confusion_matrix"
      ]
    },
    {
      "cell_type": "code",
      "execution_count": null,
      "id": "f52d138c-d34a-40ad-bee7-8bd370cdaa09",
      "metadata": {
        "id": "f52d138c-d34a-40ad-bee7-8bd370cdaa09"
      },
      "outputs": [],
      "source": [
        "#load your dataset\n",
        "data=pd.read_csv(\"Heart_Disease_Dataset.csv\")"
      ]
    },
    {
      "cell_type": "code",
      "execution_count": null,
      "id": "11adf52f-ee72-46b2-b139-d853e1537158",
      "metadata": {
        "id": "11adf52f-ee72-46b2-b139-d853e1537158"
      },
      "outputs": [],
      "source": [
        "#check the top five rows\n",
        "data.head()"
      ]
    },
    {
      "cell_type": "code",
      "execution_count": null,
      "id": "d721ace0-8471-49a3-a25d-488408b1f5c1",
      "metadata": {
        "id": "d721ace0-8471-49a3-a25d-488408b1f5c1"
      },
      "outputs": [],
      "source": [
        "#bottom five rows\n",
        "data.tail()"
      ]
    },
    {
      "cell_type": "code",
      "execution_count": null,
      "id": "583e21d7-b041-47bb-9f92-f190849824a7",
      "metadata": {
        "id": "583e21d7-b041-47bb-9f92-f190849824a7"
      },
      "outputs": [],
      "source": [
        "##information about the columns\n",
        "data.info()"
      ]
    },
    {
      "cell_type": "code",
      "execution_count": null,
      "id": "5697c96f-bf36-4f0f-aac4-c477de764b34",
      "metadata": {
        "id": "5697c96f-bf36-4f0f-aac4-c477de764b34"
      },
      "outputs": [],
      "source": [
        "#ckeck rows and columns\n",
        "data.shape"
      ]
    },
    {
      "cell_type": "code",
      "execution_count": null,
      "id": "ca4b4eda-a7fd-42f4-af05-0441421dedb4",
      "metadata": {
        "id": "ca4b4eda-a7fd-42f4-af05-0441421dedb4"
      },
      "outputs": [],
      "source": [
        "#statistical analysis\n",
        "data.describe()"
      ]
    },
    {
      "cell_type": "code",
      "execution_count": null,
      "id": "e37a8e2a-8d1a-45e8-9347-905139267aac",
      "metadata": {
        "id": "e37a8e2a-8d1a-45e8-9347-905139267aac"
      },
      "outputs": [],
      "source": [
        "#checking the null values\n",
        "data.isnull().sum()"
      ]
    },
    {
      "cell_type": "code",
      "execution_count": null,
      "id": "b711d4f8-9923-4c0a-9c97-a8ffbb8ba5fb",
      "metadata": {
        "id": "b711d4f8-9923-4c0a-9c97-a8ffbb8ba5fb"
      },
      "outputs": [],
      "source": [
        "#check the duplicate values (or) repeated rows or columns\n",
        "data.duplicated()\n"
      ]
    },
    {
      "cell_type": "code",
      "execution_count": null,
      "id": "6e073709-6838-4556-af6a-712270f56d32",
      "metadata": {
        "id": "6e073709-6838-4556-af6a-712270f56d32"
      },
      "outputs": [],
      "source": [
        "#length of duplicates\n",
        "len(data[data.duplicated()])"
      ]
    },
    {
      "cell_type": "code",
      "execution_count": null,
      "id": "4f8d4d66-cd85-477f-9288-a2369dc48312",
      "metadata": {
        "id": "4f8d4d66-cd85-477f-9288-a2369dc48312"
      },
      "outputs": [],
      "source": [
        "#check the columns\n",
        "data.columns"
      ]
    },
    {
      "cell_type": "code",
      "execution_count": null,
      "id": "e11f49dd-fe7b-4605-bf46-f45cf15d3d04",
      "metadata": {
        "id": "e11f49dd-fe7b-4605-bf46-f45cf15d3d04"
      },
      "outputs": [],
      "source": [
        "#to chect the columns in every row\n",
        "for column in data.columns:\n",
        "    print(data[column].value_counts())"
      ]
    },
    {
      "cell_type": "code",
      "execution_count": null,
      "id": "ed985c1f-d72b-4201-b6eb-603343837ffc",
      "metadata": {
        "id": "ed985c1f-d72b-4201-b6eb-603343837ffc"
      },
      "outputs": [],
      "source": [
        "data.columns"
      ]
    },
    {
      "cell_type": "code",
      "execution_count": null,
      "id": "05291e6d-d002-410f-a256-4d565bf09aeb",
      "metadata": {
        "id": "05291e6d-d002-410f-a256-4d565bf09aeb"
      },
      "outputs": [],
      "source": [
        "data=pd.get_dummies(data,columns=['Diabetic'],drop_first=True)\n",
        "data.head()"
      ]
    },
    {
      "cell_type": "code",
      "execution_count": null,
      "id": "96a60420-1a78-4279-9440-479781a3de47",
      "metadata": {
        "id": "96a60420-1a78-4279-9440-479781a3de47"
      },
      "outputs": [],
      "source": [
        "##covert binary categorical variables into numerical columns\n",
        "binary_columns=[\"Smoking\",\"AlcoholDrinking\",\"Stroke\",\"DiffWalking\",'PhysicalActivity',\"Asthma\",'KidneyDisease', 'SkinCancer']\n",
        "for col in binary_columns:\n",
        "    data[col]=data[col].map({'Yes':1,\"No\":0})"
      ]
    },
    {
      "cell_type": "code",
      "execution_count": null,
      "id": "708ea798-916d-48da-8468-4e475d703822",
      "metadata": {
        "id": "708ea798-916d-48da-8468-4e475d703822"
      },
      "outputs": [],
      "source": [
        "data.head()"
      ]
    },
    {
      "cell_type": "code",
      "execution_count": null,
      "id": "90f72a1f-e163-4332-ac93-6698556af5cd",
      "metadata": {
        "scrolled": true,
        "id": "90f72a1f-e163-4332-ac93-6698556af5cd"
      },
      "outputs": [],
      "source": [
        "data=pd.get_dummies(data,columns=['Sex',\"AgeCategory\",\"Race\",\"GenHealth\"],drop_first=True)\n",
        "data.head()"
      ]
    },
    {
      "cell_type": "code",
      "execution_count": null,
      "id": "da0f8ea1-33dc-4cd1-9198-8ba815e16a86",
      "metadata": {
        "id": "da0f8ea1-33dc-4cd1-9198-8ba815e16a86"
      },
      "outputs": [],
      "source": [
        "#null values\n",
        "data.isnull().sum()"
      ]
    },
    {
      "cell_type": "code",
      "execution_count": null,
      "id": "602683f3-ac3a-4601-9013-598549c2fc7f",
      "metadata": {
        "id": "602683f3-ac3a-4601-9013-598549c2fc7f"
      },
      "outputs": [],
      "source": [
        "##define X input and target\n",
        "X=data.drop(columns=['HeartDisease'])\n",
        "y=data['HeartDisease'].map({\"Yes\":1,\"No\":0})"
      ]
    },
    {
      "cell_type": "code",
      "execution_count": null,
      "id": "52e81c18-3f52-42a0-b185-e932f5c47654",
      "metadata": {
        "id": "52e81c18-3f52-42a0-b185-e932f5c47654"
      },
      "outputs": [],
      "source": [
        "##train test split\n",
        "X_train,X_test,y_train,y_test=train_test_split(X,y,test_size=0.20,random_state=42)"
      ]
    },
    {
      "cell_type": "code",
      "execution_count": null,
      "id": "5147a2f6-dc9c-4780-83c3-37ea5b3cdf8e",
      "metadata": {
        "id": "5147a2f6-dc9c-4780-83c3-37ea5b3cdf8e"
      },
      "outputs": [],
      "source": [
        "clf=DecisionTreeClassifier(max_depth=5,criterion='gini',random_state=42)\n",
        "clf.fit(X_train,y_train)"
      ]
    },
    {
      "cell_type": "code",
      "execution_count": null,
      "id": "9551c29d-373c-494c-8408-9c019d827706",
      "metadata": {
        "id": "9551c29d-373c-494c-8408-9c019d827706"
      },
      "outputs": [],
      "source": [
        "y_pred=clf.predict(X_test) ##make the prediction"
      ]
    },
    {
      "cell_type": "code",
      "execution_count": null,
      "id": "805df535-7d96-44f8-8965-b00bbae73d82",
      "metadata": {
        "id": "805df535-7d96-44f8-8965-b00bbae73d82"
      },
      "outputs": [],
      "source": [
        "# Calculate evaluation metrics\n",
        "accuracy = accuracy_score(y_test, y_pred)\n",
        "precision = precision_score(y_test, y_pred)\n",
        "recall = recall_score(y_test, y_pred)\n",
        "f1 = f1_score(y_test, y_pred)\n",
        "roc_auc = roc_auc_score(y_test, y_pred)\n",
        "\n",
        "# Print metrics\n",
        "print(f\"Accuracy: {accuracy:.2f}\")\n",
        "print(f\"Precision: {precision:.2f}\")\n",
        "print(f\"Recall: {recall:.2f}\")\n",
        "print(f\"F1-Score: {f1:.2f}\")\n",
        "print(f\"AUC-ROC: {roc_auc:.2f}\")\n",
        "\n",
        "# Confusion Matrix\n",
        "cm = confusion_matrix(y_test, y_pred)\n",
        "sns.heatmap(cm, annot=True, fmt='d', cmap='Blues')\n",
        "plt.title(\"Confusion Matrix\")\n",
        "plt.xlabel(\"Predicted\")\n",
        "plt.ylabel(\"Actual\")\n",
        "plt.show()"
      ]
    },
    {
      "cell_type": "code",
      "source": [
        "!pip install streamlit"
      ],
      "metadata": {
        "id": "3P7jUHSNx4pd"
      },
      "id": "3P7jUHSNx4pd",
      "execution_count": null,
      "outputs": []
    },
    {
      "cell_type": "code",
      "execution_count": null,
      "id": "26200100-fd73-4679-a7a0-3a920e559ec3",
      "metadata": {
        "id": "26200100-fd73-4679-a7a0-3a920e559ec3"
      },
      "outputs": [],
      "source": [
        "%%writefile app.py\n",
        "\n",
        "import streamlit as st\n",
        "import pandas as pd\n",
        "import numpy as np\n",
        "from sklearn.tree import DecisionTreeClassifier\n",
        "from sklearn.model_selection import train_test_split\n",
        "from imblearn.over_sampling import SMOTE\n",
        "\n",
        "# Load and preprocess the dataset\n",
        "data = pd.read_csv('Heart_Disease_Dataset.csv')  # Replace with your actual dataset path\n",
        "\n",
        "# Preprocessing steps\n",
        "binary_columns = ['Smoking', 'AlcoholDrinking', 'Stroke', 'DiffWalking', 'PhysicalActivity', 'Asthma', 'KidneyDisease', 'SkinCancer']\n",
        "for col in binary_columns:\n",
        "    data[col] = data[col].map({'Yes': 1, 'No': 0})\n",
        "\n",
        "# One-hot encode categorical columns\n",
        "data = pd.get_dummies(data, columns=['Sex', 'AgeCategory', 'Race', 'GenHealth', 'Diabetic'], drop_first=True)\n",
        "\n",
        "# Define features and target\n",
        "X = data.drop(columns=['HeartDisease'])\n",
        "y = data['HeartDisease'].map({'Yes': 1, 'No': 0})\n",
        "\n",
        "# Balance the dataset using SMOTE\n",
        "smote = SMOTE(random_state=42)\n",
        "X_resampled, y_resampled = smote.fit_resample(X, y)\n",
        "\n",
        "# Split into train and test sets\n",
        "X_train, X_test, y_train, y_test = train_test_split(X_resampled, y_resampled, test_size=0.2, random_state=42)\n",
        "\n",
        "# Train the Decision Tree Classifier\n",
        "clf = DecisionTreeClassifier(random_state=42)\n",
        "clf.fit(X_train, y_train)\n",
        "\n",
        "# Function to make predictions\n",
        "def predict_heart_disease(input_data):\n",
        "    # Create a DataFrame with the input data\n",
        "    input_df = pd.DataFrame([input_data], columns=X.columns)\n",
        "\n",
        "    # Ensure all columns are present (fill missing columns with 0)\n",
        "    for col in X.columns:\n",
        "        if col not in input_df.columns:\n",
        "            input_df[col] = 0\n",
        "\n",
        "    # Reorder columns to match the model's expectations\n",
        "    input_df = input_df[X.columns]\n",
        "\n",
        "    # Make prediction\n",
        "    prediction = clf.predict(input_df)\n",
        "    return \"Yes\" if prediction[0] == 1 else \"No\"\n",
        "\n",
        "# Streamlit app\n",
        "st.title(\"Heart Disease Prediction\")\n",
        "\n",
        "# Input fields\n",
        "bmi = st.number_input(\"BMI\", min_value=0.0, max_value=100.0, value=25.0)\n",
        "smoking = st.selectbox(\"Smoking\", [0, 1])\n",
        "alcohol_drinking = st.selectbox(\"Alcohol Drinking\", [0, 1])\n",
        "stroke = st.selectbox(\"Stroke\", [0, 1])\n",
        "physical_health = st.number_input(\"Physical Health (Days Not Good in Past 30)\", min_value=0, max_value=30, value=0)\n",
        "mental_health = st.number_input(\"Mental Health (Days Not Good in Past 30)\", min_value=0, max_value=30, value=0)\n",
        "diff_walking = st.selectbox(\"Difficulty Walking\", [0, 1])\n",
        "sex = st.selectbox(\"Sex\", [\"Female\", \"Male\"])\n",
        "age_category = st.selectbox(\"Age Category\", [\"25-29\", \"30-34\", \"35-39\", \"40-44\", \"50-54\", \"70-74\"])\n",
        "race = st.selectbox(\"Race\", [\"White\", \"Hispanic\", \"Black\", \"Asian\", \"American Indian/Alaskan Native\"])\n",
        "diabetic = st.selectbox(\"Diabetic Status\", [\"No\", \"No, borderline diabetes\", \"Yes (during pregnancy)\", \"Yes\"])\n",
        "physical_activity = st.selectbox(\"Physical Activity\", [0, 1])\n",
        "gen_health = st.selectbox(\"General Health\", [\"Poor\", \"Fair\", \"Good\", \"Very Good\", \"Excellent\"])\n",
        "sleep_time = st.number_input(\"Sleep Time (Hours)\", min_value=0, max_value=24, value=7)\n",
        "asthma = st.selectbox(\"Asthma\", [0, 1])\n",
        "kidney_disease = st.selectbox(\"Kidney Disease\", [0, 1])\n",
        "skin_cancer = st.selectbox(\"Skin Cancer\", [0, 1])\n",
        "\n",
        "# Prepare input data\n",
        "input_data = {\n",
        "    'BMI': bmi,\n",
        "    'Smoking': smoking,\n",
        "    'AlcoholDrinking': alcohol_drinking,\n",
        "    'Stroke': stroke,\n",
        "    'PhysicalHealth': physical_health,\n",
        "    'MentalHealth': mental_health,\n",
        "    'DiffWalking': diff_walking,\n",
        "    'Sex_Male': 1 if sex == \"Male\" else 0,\n",
        "    'AgeCategory_30-34': 1 if age_category == \"30-34\" else 0,\n",
        "    'AgeCategory_35-39': 1 if age_category == \"35-39\" else 0,\n",
        "    'AgeCategory_40-44': 1 if age_category == \"40-44\" else 0,\n",
        "    'AgeCategory_50-54': 1 if age_category == \"50-54\" else 0,\n",
        "    'AgeCategory_70-74': 1 if age_category == \"70-74\" else 0,\n",
        "    'Race_Hispanic': 1 if race == \"Hispanic\" else 0,\n",
        "    'Race_Black': 1 if race == \"Black\" else 0,\n",
        "    'Race_Asian': 1 if race == \"Asian\" else 0,\n",
        "    'Race_American Indian/Alaskan Native': 1 if race == \"American Indian/Alaskan Native\" else 0,\n",
        "    'Diabetic_No, borderline diabetes': 1 if diabetic == \"No, borderline diabetes\" else 0,\n",
        "    'Diabetic_Yes (during pregnancy)': 1 if diabetic == \"Yes (during pregnancy)\" else 0,\n",
        "    'Diabetic_Yes': 1 if diabetic == \"Yes\" else 0,\n",
        "    'PhysicalActivity': physical_activity,\n",
        "    'GenHealth_Fair': 1 if gen_health == \"Fair\" else 0,\n",
        "    'GenHealth_Good': 1 if gen_health == \"Good\" else 0,\n",
        "    'GenHealth_Very Good': 1 if gen_health == \"Very Good\" else 0,\n",
        "    'GenHealth_Excellent': 1 if gen_health == \"Excellent\" else 0,\n",
        "    'SleepTime': sleep_time,\n",
        "    'Asthma': asthma,\n",
        "    'KidneyDisease': kidney_disease,\n",
        "    'SkinCancer': skin_cancer\n",
        "}\n",
        "\n",
        "# Predict button\n",
        "if st.button(\"Predict\"):\n",
        "    result = predict_heart_disease(input_data)\n",
        "    st.write(f\"Heart Disease Prediction: {result}\")"
      ]
    },
    {
      "cell_type": "code",
      "execution_count": null,
      "id": "3e756d40-a135-4e4b-8ce3-c391bdd056c1",
      "metadata": {
        "id": "3e756d40-a135-4e4b-8ce3-c391bdd056c1"
      },
      "outputs": [],
      "source": [
        "! wget -q -O - ipv4.icanhazip.com  ##for getting the code"
      ]
    },
    {
      "cell_type": "code",
      "execution_count": null,
      "id": "9c04c11b-7597-454e-b512-cb2eb0952e09",
      "metadata": {
        "colab": {
          "base_uri": "https://localhost:8080/"
        },
        "id": "9c04c11b-7597-454e-b512-cb2eb0952e09",
        "outputId": "b67baa7b-db7c-4669-b66a-a103ee3f8562"
      },
      "outputs": [
        {
          "output_type": "stream",
          "name": "stdout",
          "text": [
            "\u001b[1G\u001b[0K⠙\u001b[1G\u001b[0K⠹\u001b[1G\u001b[0K⠸\u001b[1G\u001b[0K⠼\n",
            "Collecting usage statistics. To deactivate, set browser.gatherUsageStats to false.\n",
            "\u001b[0m\n",
            "\u001b[1G\u001b[0K⠴\u001b[1G\u001b[0K⠦\u001b[1G\u001b[0K⠧\u001b[1G\u001b[0K⠇\u001b[1G\u001b[0K\u001b[1G\u001b[0JNeed to install the following packages:\n",
            "localtunnel@2.0.2\n",
            "Ok to proceed? (y) \u001b[20G\u001b[0m\n",
            "\u001b[34m\u001b[1m  You can now view your Streamlit app in your browser.\u001b[0m\n",
            "\u001b[0m\n",
            "\u001b[34m  Local URL: \u001b[0m\u001b[1mhttp://localhost:8501\u001b[0m\n",
            "\u001b[34m  Network URL: \u001b[0m\u001b[1mhttp://172.28.0.12:8501\u001b[0m\n",
            "\u001b[34m  External URL: \u001b[0m\u001b[1mhttp://34.168.113.64:8501\u001b[0m\n",
            "\u001b[0m\n",
            "y\n",
            "\n",
            "\u001b[1G\u001b[0K⠙\u001b[1G\u001b[0K⠹\u001b[1G\u001b[0K⠸\u001b[1G\u001b[0K⠼\u001b[1G\u001b[0K⠴\u001b[1G\u001b[0K⠦\u001b[1G\u001b[0K⠧\u001b[1G\u001b[0K⠇\u001b[1G\u001b[0K⠏\u001b[1G\u001b[0K⠋\u001b[1G\u001b[0K⠙\u001b[1G\u001b[0K⠹\u001b[1G\u001b[0K⠸\u001b[1G\u001b[0K⠼\u001b[1G\u001b[0K⠴\u001b[1G\u001b[0K⠦\u001b[1G\u001b[0K⠧\u001b[1G\u001b[0K⠇\u001b[1G\u001b[0K⠏\u001b[1G\u001b[0K⠋\u001b[1G\u001b[0K⠙\u001b[1G\u001b[0K⠹\u001b[1G\u001b[0K⠸\u001b[1G\u001b[0K⠼\u001b[1G\u001b[0Kyour url is: https://clean-olives-notice.loca.lt\n",
            "2025-03-06 04:53:42.854 Uncaught app execution\n",
            "Traceback (most recent call last):\n",
            "  File \"/usr/local/lib/python3.11/dist-packages/streamlit/runtime/scriptrunner/exec_code.py\", line 121, in exec_func_with_error_handling\n",
            "    result = func()\n",
            "             ^^^^^^\n",
            "  File \"/usr/local/lib/python3.11/dist-packages/streamlit/runtime/scriptrunner/script_runner.py\", line 593, in code_to_exec\n",
            "    exec(code, module.__dict__)\n",
            "  File \"/content/app.py\", line 10, in <module>\n",
            "    data = pd.read_csv('Heart_Disease_Dataset.csv')  # Replace with your actual dataset path\n",
            "           ^^^^^^^^^^^^^^^^^^^^^^^^^^^^^^^^^^^^^^^^\n",
            "  File \"/usr/local/lib/python3.11/dist-packages/pandas/io/parsers/readers.py\", line 1026, in read_csv\n",
            "    return _read(filepath_or_buffer, kwds)\n",
            "           ^^^^^^^^^^^^^^^^^^^^^^^^^^^^^^^\n",
            "  File \"/usr/local/lib/python3.11/dist-packages/pandas/io/parsers/readers.py\", line 620, in _read\n",
            "    parser = TextFileReader(filepath_or_buffer, **kwds)\n",
            "             ^^^^^^^^^^^^^^^^^^^^^^^^^^^^^^^^^^^^^^^^^^\n",
            "  File \"/usr/local/lib/python3.11/dist-packages/pandas/io/parsers/readers.py\", line 1620, in __init__\n",
            "    self._engine = self._make_engine(f, self.engine)\n",
            "                   ^^^^^^^^^^^^^^^^^^^^^^^^^^^^^^^^^\n",
            "  File \"/usr/local/lib/python3.11/dist-packages/pandas/io/parsers/readers.py\", line 1880, in _make_engine\n",
            "    self.handles = get_handle(\n",
            "                   ^^^^^^^^^^^\n",
            "  File \"/usr/local/lib/python3.11/dist-packages/pandas/io/common.py\", line 873, in get_handle\n",
            "    handle = open(\n",
            "             ^^^^^\n",
            "FileNotFoundError: [Errno 2] No such file or directory: 'Heart_Disease_Dataset.csv'\n",
            "2025-03-06 04:55:39.355 Uncaught app execution\n",
            "Traceback (most recent call last):\n",
            "  File \"/usr/local/lib/python3.11/dist-packages/streamlit/runtime/scriptrunner/exec_code.py\", line 121, in exec_func_with_error_handling\n",
            "    result = func()\n",
            "             ^^^^^^\n",
            "  File \"/usr/local/lib/python3.11/dist-packages/streamlit/runtime/scriptrunner/script_runner.py\", line 593, in code_to_exec\n",
            "    exec(code, module.__dict__)\n",
            "  File \"/content/app.py\", line 26, in <module>\n",
            "    X_resampled, y_resampled = smote.fit_resample(X, y)\n",
            "                               ^^^^^^^^^^^^^^^^^^^^^^^^\n",
            "  File \"/usr/local/lib/python3.11/dist-packages/imblearn/base.py\", line 202, in fit_resample\n",
            "    return super().fit_resample(X, y, **params)\n",
            "           ^^^^^^^^^^^^^^^^^^^^^^^^^^^^^^^^^^^^\n",
            "  File \"/usr/local/lib/python3.11/dist-packages/sklearn/base.py\", line 1389, in wrapper\n",
            "    return fit_method(estimator, *args, **kwargs)\n",
            "           ^^^^^^^^^^^^^^^^^^^^^^^^^^^^^^^^^^^^^^\n",
            "  File \"/usr/local/lib/python3.11/dist-packages/imblearn/base.py\", line 99, in fit_resample\n",
            "    X, y, binarize_y = self._check_X_y(X, y)\n",
            "                       ^^^^^^^^^^^^^^^^^^^^^\n",
            "  File \"/usr/local/lib/python3.11/dist-packages/imblearn/base.py\", line 157, in _check_X_y\n",
            "    X, y = validate_data(self, X=X, y=y, reset=True, accept_sparse=accept_sparse)\n",
            "           ^^^^^^^^^^^^^^^^^^^^^^^^^^^^^^^^^^^^^^^^^^^^^^^^^^^^^^^^^^^^^^^^^^^^^^\n",
            "  File \"/usr/local/lib/python3.11/dist-packages/sklearn/utils/validation.py\", line 2961, in validate_data\n",
            "    X, y = check_X_y(X, y, **check_params)\n",
            "           ^^^^^^^^^^^^^^^^^^^^^^^^^^^^^^^\n",
            "  File \"/usr/local/lib/python3.11/dist-packages/sklearn/utils/validation.py\", line 1370, in check_X_y\n",
            "    X = check_array(\n",
            "        ^^^^^^^^^^^^\n",
            "  File \"/usr/local/lib/python3.11/dist-packages/sklearn/utils/validation.py\", line 1107, in check_array\n",
            "    _assert_all_finite(\n",
            "  File \"/usr/local/lib/python3.11/dist-packages/sklearn/utils/validation.py\", line 120, in _assert_all_finite\n",
            "    _assert_all_finite_element_wise(\n",
            "  File \"/usr/local/lib/python3.11/dist-packages/sklearn/utils/validation.py\", line 169, in _assert_all_finite_element_wise\n",
            "    raise ValueError(msg_err)\n",
            "ValueError: Input X contains NaN.\n",
            "SMOTE does not accept missing values encoded as NaN natively. For supervised learning, you might want to consider sklearn.ensemble.HistGradientBoostingClassifier and Regressor which accept missing values encoded as NaNs natively. Alternatively, it is possible to preprocess the data, for instance by using an imputer transformer in a pipeline or drop samples with missing values. See https://scikit-learn.org/stable/modules/impute.html You can find a list of all estimators that handle NaN values at the following page: https://scikit-learn.org/stable/modules/impute.html#estimators-that-handle-nan-values\n"
          ]
        }
      ],
      "source": [
        "## run streamlit\n",
        "! streamlit run app.py & npx localtunnel --port 8501"
      ]
    },
    {
      "cell_type": "code",
      "source": [],
      "metadata": {
        "id": "spDvLo10y11_"
      },
      "id": "spDvLo10y11_",
      "execution_count": null,
      "outputs": []
    }
  ],
  "metadata": {
    "kernelspec": {
      "display_name": "Python [conda env:base] *",
      "language": "python",
      "name": "conda-base-py"
    },
    "language_info": {
      "codemirror_mode": {
        "name": "ipython",
        "version": 3
      },
      "file_extension": ".py",
      "mimetype": "text/x-python",
      "name": "python",
      "nbconvert_exporter": "python",
      "pygments_lexer": "ipython3",
      "version": "3.12.7"
    },
    "colab": {
      "provenance": []
    }
  },
  "nbformat": 4,
  "nbformat_minor": 5
}